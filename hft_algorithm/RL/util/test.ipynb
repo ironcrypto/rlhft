{
 "cells": [
  {
   "cell_type": "code",
   "execution_count": 20,
   "metadata": {},
   "outputs": [],
   "source": [
    "import pandas as pd\n",
    "import numpy as np\n",
    "from sklearn.neighbors import KernelDensity\n",
    "from scipy.stats import iqr\n",
    "from sklearn.model_selection import GridSearchCV"
   ]
  },
  {
   "cell_type": "code",
   "execution_count": 21,
   "metadata": {},
   "outputs": [],
   "source": [
    "def get_silverman_bandwidth(data):\n",
    "    std_dev = np.std(data)\n",
    "    interquartile_range = iqr(data)\n",
    "    n = len(data)\n",
    "    return 1.06 * min(std_dev, interquartile_range / 1.34) * n**(-1/5)\n",
    "\n",
    "\n",
    "\n",
    "def get_transformation_even_risk(buy_hold_return_list,bandwidth=None,kernel='gaussian',beta=None,risk_bond=0.1):\n",
    "    #this is just for creating even distribution\n",
    "    lower_risk_bond=risk_bond/2\n",
    "    upper_risk_bond=1-risk_bond/2\n",
    "    upper_value=np.quantile(buy_hold_return_list,upper_risk_bond)\n",
    "    lower_value=np.quantile(buy_hold_return_list,lower_risk_bond)\n",
    "    if bandwidth is None:\n",
    "        silverman_bandwidth =get_silverman_bandwidth(buy_hold_return_list)\n",
    "        log_bandwidths = np.linspace(np.log10(0.01 * silverman_bandwidth), np.log10(10 * silverman_bandwidth), 100)\n",
    "        bandwidths = 10 ** log_bandwidths\n",
    "        kde = KernelDensity(kernel=kernel)\n",
    "        grid = GridSearchCV(kde, {'bandwidth': bandwidths})\n",
    "        grid.fit(np.array(buy_hold_return_list).reshape(-1, 1))\n",
    "        bandwidth=grid.best_params_[\"bandwidth\"]\n",
    "    kde = KernelDensity(kernel=kernel, bandwidth=bandwidth).fit(np.array(buy_hold_return_list)[:, np.newaxis])\n",
    "    log_density = kde.score_samples(np.array(buy_hold_return_list)[:, np.newaxis])\n",
    "    density = np.exp(log_density)\n",
    "    density=density/np.sum(density)\n",
    "    weights=[]\n",
    "    for return_rate,single_density in zip(buy_hold_return_list,density):\n",
    "        if return_rate>=lower_value and return_rate<=upper_value:\n",
    "            weights.append(1/single_density)\n",
    "        else:\n",
    "            weights.append(1)\n",
    "    weights=np.array(weights)\n",
    "    \n",
    "    return weights"
   ]
  },
  {
   "cell_type": "code",
   "execution_count": 22,
   "metadata": {},
   "outputs": [
    {
     "name": "stdout",
     "output_type": "stream",
     "text": [
      "1.0\n",
      "density [0.20039626 0.11545632 0.18727892 0.19976957 0.17446768 0.12263125]\n",
      "0.20039625764620342\n",
      "0.18727892119077696\n",
      "0.19976956617663333\n",
      "0.17446768176586813\n",
      "weights [4.99011315 1.         5.33962922 5.00576749 5.73172057 1.        ]\n"
     ]
    },
    {
     "data": {
      "text/plain": [
       "[]"
      ]
     },
     "execution_count": 22,
     "metadata": {},
     "output_type": "execute_result"
    }
   ],
   "source": [
    "return_rate=[0.01,-0.01,0.02,0.015,0.001,0.032]\n",
    "get_transformation_even_risk(return_rate)"
   ]
  },
  {
   "cell_type": "code",
   "execution_count": 23,
   "metadata": {},
   "outputs": [
    {
     "name": "stdout",
     "output_type": "stream",
     "text": [
      "1.0\n",
      "density [0.20039626 0.11545632 0.18727892 0.19976957 0.17446768 0.12263125]\n",
      "0.20039625764620342\n",
      "0.18727892119077696\n",
      "0.19976956617663333\n",
      "0.17446768176586813\n",
      "weights [4.99011315 1.         5.33962922 5.00576749 5.73172057 1.        ]\n"
     ]
    },
    {
     "data": {
      "text/plain": [
       "[]"
      ]
     },
     "execution_count": 23,
     "metadata": {},
     "output_type": "execute_result"
    }
   ],
   "source": [
    "return_rate=[0.01,-0.01,0.02,0.015,0.001,0.032]\n",
    "get_transformation_even_risk(return_rate)"
   ]
  }
 ],
 "metadata": {
  "kernelspec": {
   "display_name": "HFT",
   "language": "python",
   "name": "python3"
  },
  "language_info": {
   "codemirror_mode": {
    "name": "ipython",
    "version": 3
   },
   "file_extension": ".py",
   "mimetype": "text/x-python",
   "name": "python",
   "nbconvert_exporter": "python",
   "pygments_lexer": "ipython3",
   "version": "3.8.16"
  },
  "orig_nbformat": 4
 },
 "nbformat": 4,
 "nbformat_minor": 2
}
