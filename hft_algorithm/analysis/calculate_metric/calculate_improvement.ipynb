{
 "cells": [
  {
   "cell_type": "code",
   "execution_count": null,
   "metadata": {},
   "outputs": [],
   "source": [
    "import pandas as pd\n",
    "import numpy as np"
   ]
  },
  {
   "cell_type": "code",
   "execution_count": 1,
   "metadata": {},
   "outputs": [
    {
     "data": {
      "text/plain": [
       "0.4495548961424331"
      ]
     },
     "execution_count": 1,
     "metadata": {},
     "output_type": "execute_result"
    }
   ],
   "source": [
    "(9.77-6.74)/(6.74)"
   ]
  },
  {
   "cell_type": "code",
   "execution_count": 2,
   "metadata": {},
   "outputs": [
    {
     "data": {
      "text/plain": [
       "0.4205137416921142"
      ]
     },
     "execution_count": 2,
     "metadata": {},
     "output_type": "execute_result"
    }
   ],
   "source": [
    "(79.08-55.67)/55.67"
   ]
  },
  {
   "cell_type": "code",
   "execution_count": 3,
   "metadata": {},
   "outputs": [
    {
     "data": {
      "text/plain": [
       "0.43992606284658037"
      ]
     },
     "execution_count": 3,
     "metadata": {},
     "output_type": "execute_result"
    }
   ],
   "source": [
    "(7.79 -5.41)/5.41"
   ]
  },
  {
   "cell_type": "code",
   "execution_count": 6,
   "metadata": {},
   "outputs": [
    {
     "data": {
      "text/plain": [
       "0.38132733408323943"
      ]
     },
     "execution_count": 6,
     "metadata": {},
     "output_type": "execute_result"
    }
   ],
   "source": [
    "(12.28-8.89)/8.89"
   ]
  },
  {
   "cell_type": "code",
   "execution_count": 1,
   "metadata": {},
   "outputs": [
    {
     "data": {
      "text/plain": [
       "54"
      ]
     },
     "execution_count": 1,
     "metadata": {},
     "output_type": "execute_result"
    }
   ],
   "source": [
    "import numpy as np\n",
    "second_feature=np.load(\"/home/mlqin/qml/HFT_06_17/data/feature/second_feature.npy\")\n",
    "len(second_feature)"
   ]
  },
  {
   "cell_type": "code",
   "execution_count": 2,
   "metadata": {},
   "outputs": [
    {
     "data": {
      "text/plain": [
       "19"
      ]
     },
     "execution_count": 2,
     "metadata": {},
     "output_type": "execute_result"
    }
   ],
   "source": [
    "minitue_feature=np.load(\"/home/mlqin/qml/HFT_06_17/data/feature/minitue_feature.npy\")\n",
    "len(minitue_feature)"
   ]
  },
  {
   "cell_type": "code",
   "execution_count": 3,
   "metadata": {},
   "outputs": [
    {
     "name": "stdout",
     "output_type": "stream",
     "text": [
      "['qtlu_5_s' 'ask1_price_trend_30' 'buy_spread_oe_diff_30'\n",
      " 'sell_spread_oe_diff_30' 'ksft2_s' 'buy_spread_oe_diff_60'\n",
      " 'imblance_volume_oe_trend_5' 'qtld_5_s' 'qtlu_30_s'\n",
      " 'buy_spread_oe_diff_5' 'oe_spread_1' 'imblance_volume_oe_diff_30'\n",
      " 'buy_spread_oe_trend_5' 'sell_buy_vwap_spread' 'sell_spread_oe_trend_60'\n",
      " 'ma_30_s' 'ask1_price_diff_5' 'imblance_volume_oe_diff_60'\n",
      " 'ask1_price_trend_10' 'midpoint_trend_5' 'ksft_s' 'imblance_volume_oe'\n",
      " 'ma_5_s' 'ask1_diff_5' 'sell_spread_oe_trend_5'\n",
      " 'imblance_volume_oe_trend_30' 'buy_spread_oe_trend_30'\n",
      " 'midpoint_trend_10' 'sell_spread_oe_diff_10' 'ask2_diff_10'\n",
      " 'midpoint_diff_10' 'sell_spread_oe' 'buy_spread_oe_trend_60'\n",
      " 'ask2_diff_30' 'ask2_diff_5' 'qtlu_10_s' 'imblance_volume_oe_trend_10'\n",
      " 'ma_10_s' 'buy_spread_oe_trend_10' 'ask1_price_trend_5' 'midpoint_diff_5'\n",
      " 'buy_spread_oe' 'sell_spread_oe_trend_10' 'imblance_volume_oe_trend_60'\n",
      " 'ask1_price_trend_60' 'max_5_s' 'ask1_diff_30' 'buy_spread_oe_diff_10'\n",
      " 'qtld_10_s' 'ask1_diff_10' 'sell_spread_oe_trend_30' 'qtld_30_s'\n",
      " 'ask1_price_diff_10' 'ask1_price_diff_30']\n"
     ]
    }
   ],
   "source": [
    "print(second_feature)"
   ]
  },
  {
   "cell_type": "code",
   "execution_count": 3,
   "metadata": {},
   "outputs": [
    {
     "data": {
      "text/plain": [
       "794148"
      ]
     },
     "execution_count": 3,
     "metadata": {},
     "output_type": "execute_result"
    }
   ],
   "source": [
    "import numpy as np\n",
    "import pandas as pd\n",
    "df=pd.read_feather(\"/home/mlqin/qml/EarnHFT/HFT_06_17/data/GALAUSDT/test.feather\")\n",
    "action=np.load(\"/home/mlqin/qml/EarnHFT/HFT_06_17/result_risk/GALAUSDT/high_level/seed_12345/epoch_27/test/micro_action.npy\")\n",
    "len(df)"
   ]
  },
  {
   "cell_type": "code",
   "execution_count": 4,
   "metadata": {},
   "outputs": [
    {
     "data": {
      "text/plain": [
       "794147"
      ]
     },
     "execution_count": 4,
     "metadata": {},
     "output_type": "execute_result"
    }
   ],
   "source": [
    "len(action)"
   ]
  },
  {
   "cell_type": "code",
   "execution_count": 5,
   "metadata": {},
   "outputs": [
    {
     "data": {
      "text/html": [
       "<div>\n",
       "<style scoped>\n",
       "    .dataframe tbody tr th:only-of-type {\n",
       "        vertical-align: middle;\n",
       "    }\n",
       "\n",
       "    .dataframe tbody tr th {\n",
       "        vertical-align: top;\n",
       "    }\n",
       "\n",
       "    .dataframe thead th {\n",
       "        text-align: right;\n",
       "    }\n",
       "</style>\n",
       "<table border=\"1\" class=\"dataframe\">\n",
       "  <thead>\n",
       "    <tr style=\"text-align: right;\">\n",
       "      <th></th>\n",
       "      <th>timestamp</th>\n",
       "      <th>symbol</th>\n",
       "      <th>ask1_price</th>\n",
       "      <th>ask1_size</th>\n",
       "      <th>bid1_price</th>\n",
       "      <th>bid1_size</th>\n",
       "      <th>ask2_price</th>\n",
       "      <th>ask2_size</th>\n",
       "      <th>bid2_price</th>\n",
       "      <th>bid2_size</th>\n",
       "      <th>...</th>\n",
       "      <th>roc_60_m</th>\n",
       "      <th>beta_60_m</th>\n",
       "      <th>max_60_m</th>\n",
       "      <th>min_60_m</th>\n",
       "      <th>qtlu_60_m</th>\n",
       "      <th>qtld_60_m</th>\n",
       "      <th>imax_60_m</th>\n",
       "      <th>imin_60_m</th>\n",
       "      <th>imxd_60_m</th>\n",
       "      <th>imxd_60_dis_m</th>\n",
       "    </tr>\n",
       "  </thead>\n",
       "  <tbody>\n",
       "    <tr>\n",
       "      <th>0</th>\n",
       "      <td>2022-08-06 19:24:12</td>\n",
       "      <td>GALAUSDT</td>\n",
       "      <td>0.06068</td>\n",
       "      <td>4000.0</td>\n",
       "      <td>0.06067</td>\n",
       "      <td>26089.0</td>\n",
       "      <td>0.06069</td>\n",
       "      <td>29007.0</td>\n",
       "      <td>0.06066</td>\n",
       "      <td>23619.0</td>\n",
       "      <td>...</td>\n",
       "      <td>-1.007562</td>\n",
       "      <td>-0.016793</td>\n",
       "      <td>1.799218</td>\n",
       "      <td>-2.159061</td>\n",
       "      <td>0.906806</td>\n",
       "      <td>-0.863625</td>\n",
       "      <td>0.316667</td>\n",
       "      <td>0.066667</td>\n",
       "      <td>0.250000</td>\n",
       "      <td>1.0</td>\n",
       "    </tr>\n",
       "    <tr>\n",
       "      <th>1</th>\n",
       "      <td>2022-08-06 19:24:13</td>\n",
       "      <td>GALAUSDT</td>\n",
       "      <td>0.06067</td>\n",
       "      <td>33283.0</td>\n",
       "      <td>0.06066</td>\n",
       "      <td>3350.0</td>\n",
       "      <td>0.06068</td>\n",
       "      <td>42469.0</td>\n",
       "      <td>0.06065</td>\n",
       "      <td>446.0</td>\n",
       "      <td>...</td>\n",
       "      <td>-1.007562</td>\n",
       "      <td>-0.016793</td>\n",
       "      <td>1.799218</td>\n",
       "      <td>-2.159061</td>\n",
       "      <td>0.906806</td>\n",
       "      <td>-0.863625</td>\n",
       "      <td>0.316667</td>\n",
       "      <td>0.066667</td>\n",
       "      <td>0.250000</td>\n",
       "      <td>1.0</td>\n",
       "    </tr>\n",
       "    <tr>\n",
       "      <th>2</th>\n",
       "      <td>2022-08-06 19:24:14</td>\n",
       "      <td>GALAUSDT</td>\n",
       "      <td>0.06067</td>\n",
       "      <td>45523.0</td>\n",
       "      <td>0.06066</td>\n",
       "      <td>3350.0</td>\n",
       "      <td>0.06068</td>\n",
       "      <td>40723.0</td>\n",
       "      <td>0.06065</td>\n",
       "      <td>9146.0</td>\n",
       "      <td>...</td>\n",
       "      <td>-1.007562</td>\n",
       "      <td>-0.016793</td>\n",
       "      <td>1.799218</td>\n",
       "      <td>-2.159061</td>\n",
       "      <td>0.906806</td>\n",
       "      <td>-0.863625</td>\n",
       "      <td>0.316667</td>\n",
       "      <td>0.066667</td>\n",
       "      <td>0.250000</td>\n",
       "      <td>1.0</td>\n",
       "    </tr>\n",
       "    <tr>\n",
       "      <th>3</th>\n",
       "      <td>2022-08-06 19:24:15</td>\n",
       "      <td>GALAUSDT</td>\n",
       "      <td>0.06067</td>\n",
       "      <td>45523.0</td>\n",
       "      <td>0.06066</td>\n",
       "      <td>3350.0</td>\n",
       "      <td>0.06068</td>\n",
       "      <td>44523.0</td>\n",
       "      <td>0.06065</td>\n",
       "      <td>9146.0</td>\n",
       "      <td>...</td>\n",
       "      <td>-1.007562</td>\n",
       "      <td>-0.016793</td>\n",
       "      <td>1.799218</td>\n",
       "      <td>-2.159061</td>\n",
       "      <td>0.906806</td>\n",
       "      <td>-0.863625</td>\n",
       "      <td>0.316667</td>\n",
       "      <td>0.066667</td>\n",
       "      <td>0.250000</td>\n",
       "      <td>1.0</td>\n",
       "    </tr>\n",
       "    <tr>\n",
       "      <th>4</th>\n",
       "      <td>2022-08-06 19:24:16</td>\n",
       "      <td>GALAUSDT</td>\n",
       "      <td>0.06067</td>\n",
       "      <td>35158.0</td>\n",
       "      <td>0.06066</td>\n",
       "      <td>17615.0</td>\n",
       "      <td>0.06068</td>\n",
       "      <td>51117.0</td>\n",
       "      <td>0.06065</td>\n",
       "      <td>9146.0</td>\n",
       "      <td>...</td>\n",
       "      <td>-1.007562</td>\n",
       "      <td>-0.016793</td>\n",
       "      <td>1.799218</td>\n",
       "      <td>-2.159061</td>\n",
       "      <td>0.906806</td>\n",
       "      <td>-0.863625</td>\n",
       "      <td>0.316667</td>\n",
       "      <td>0.066667</td>\n",
       "      <td>0.250000</td>\n",
       "      <td>1.0</td>\n",
       "    </tr>\n",
       "    <tr>\n",
       "      <th>...</th>\n",
       "      <td>...</td>\n",
       "      <td>...</td>\n",
       "      <td>...</td>\n",
       "      <td>...</td>\n",
       "      <td>...</td>\n",
       "      <td>...</td>\n",
       "      <td>...</td>\n",
       "      <td>...</td>\n",
       "      <td>...</td>\n",
       "      <td>...</td>\n",
       "      <td>...</td>\n",
       "      <td>...</td>\n",
       "      <td>...</td>\n",
       "      <td>...</td>\n",
       "      <td>...</td>\n",
       "      <td>...</td>\n",
       "      <td>...</td>\n",
       "      <td>...</td>\n",
       "      <td>...</td>\n",
       "      <td>...</td>\n",
       "      <td>...</td>\n",
       "    </tr>\n",
       "    <tr>\n",
       "      <th>794143</th>\n",
       "      <td>2022-08-15 23:59:55</td>\n",
       "      <td>GALAUSDT</td>\n",
       "      <td>0.06704</td>\n",
       "      <td>21530.0</td>\n",
       "      <td>0.06703</td>\n",
       "      <td>28875.0</td>\n",
       "      <td>0.06705</td>\n",
       "      <td>5965.0</td>\n",
       "      <td>0.06702</td>\n",
       "      <td>162802.0</td>\n",
       "      <td>...</td>\n",
       "      <td>-0.970452</td>\n",
       "      <td>-0.016174</td>\n",
       "      <td>0.369696</td>\n",
       "      <td>-2.726508</td>\n",
       "      <td>0.009242</td>\n",
       "      <td>-2.195070</td>\n",
       "      <td>0.916667</td>\n",
       "      <td>0.083333</td>\n",
       "      <td>0.833333</td>\n",
       "      <td>1.0</td>\n",
       "    </tr>\n",
       "    <tr>\n",
       "      <th>794144</th>\n",
       "      <td>2022-08-15 23:59:56</td>\n",
       "      <td>GALAUSDT</td>\n",
       "      <td>0.06704</td>\n",
       "      <td>21530.0</td>\n",
       "      <td>0.06703</td>\n",
       "      <td>28875.0</td>\n",
       "      <td>0.06705</td>\n",
       "      <td>5965.0</td>\n",
       "      <td>0.06702</td>\n",
       "      <td>167709.0</td>\n",
       "      <td>...</td>\n",
       "      <td>-0.970452</td>\n",
       "      <td>-0.016174</td>\n",
       "      <td>0.369696</td>\n",
       "      <td>-2.726508</td>\n",
       "      <td>0.009242</td>\n",
       "      <td>-2.195070</td>\n",
       "      <td>0.916667</td>\n",
       "      <td>0.083333</td>\n",
       "      <td>0.833333</td>\n",
       "      <td>1.0</td>\n",
       "    </tr>\n",
       "    <tr>\n",
       "      <th>794145</th>\n",
       "      <td>2022-08-15 23:59:57</td>\n",
       "      <td>GALAUSDT</td>\n",
       "      <td>0.06704</td>\n",
       "      <td>21530.0</td>\n",
       "      <td>0.06703</td>\n",
       "      <td>28875.0</td>\n",
       "      <td>0.06705</td>\n",
       "      <td>5965.0</td>\n",
       "      <td>0.06702</td>\n",
       "      <td>302709.0</td>\n",
       "      <td>...</td>\n",
       "      <td>-0.970452</td>\n",
       "      <td>-0.016174</td>\n",
       "      <td>0.369696</td>\n",
       "      <td>-2.726508</td>\n",
       "      <td>0.009242</td>\n",
       "      <td>-2.195070</td>\n",
       "      <td>0.916667</td>\n",
       "      <td>0.083333</td>\n",
       "      <td>0.833333</td>\n",
       "      <td>1.0</td>\n",
       "    </tr>\n",
       "    <tr>\n",
       "      <th>794146</th>\n",
       "      <td>2022-08-15 23:59:58</td>\n",
       "      <td>GALAUSDT</td>\n",
       "      <td>0.06704</td>\n",
       "      <td>21424.0</td>\n",
       "      <td>0.06703</td>\n",
       "      <td>33631.0</td>\n",
       "      <td>0.06705</td>\n",
       "      <td>5965.0</td>\n",
       "      <td>0.06702</td>\n",
       "      <td>174304.0</td>\n",
       "      <td>...</td>\n",
       "      <td>-0.970452</td>\n",
       "      <td>-0.016174</td>\n",
       "      <td>0.369696</td>\n",
       "      <td>-2.726508</td>\n",
       "      <td>0.009242</td>\n",
       "      <td>-2.195070</td>\n",
       "      <td>0.916667</td>\n",
       "      <td>0.083333</td>\n",
       "      <td>0.833333</td>\n",
       "      <td>1.0</td>\n",
       "    </tr>\n",
       "    <tr>\n",
       "      <th>794147</th>\n",
       "      <td>2022-08-15 23:59:59</td>\n",
       "      <td>GALAUSDT</td>\n",
       "      <td>0.06708</td>\n",
       "      <td>7501.0</td>\n",
       "      <td>0.06707</td>\n",
       "      <td>10093.0</td>\n",
       "      <td>0.06709</td>\n",
       "      <td>442.0</td>\n",
       "      <td>0.06706</td>\n",
       "      <td>16767.0</td>\n",
       "      <td>...</td>\n",
       "      <td>-0.970452</td>\n",
       "      <td>-0.016174</td>\n",
       "      <td>0.369696</td>\n",
       "      <td>-2.726508</td>\n",
       "      <td>0.009242</td>\n",
       "      <td>-2.195070</td>\n",
       "      <td>0.916667</td>\n",
       "      <td>0.083333</td>\n",
       "      <td>0.833333</td>\n",
       "      <td>1.0</td>\n",
       "    </tr>\n",
       "  </tbody>\n",
       "</table>\n",
       "<p>794148 rows × 258 columns</p>\n",
       "</div>"
      ],
      "text/plain": [
       "                 timestamp    symbol  ask1_price  ask1_size  bid1_price   \n",
       "0      2022-08-06 19:24:12  GALAUSDT     0.06068     4000.0     0.06067  \\\n",
       "1      2022-08-06 19:24:13  GALAUSDT     0.06067    33283.0     0.06066   \n",
       "2      2022-08-06 19:24:14  GALAUSDT     0.06067    45523.0     0.06066   \n",
       "3      2022-08-06 19:24:15  GALAUSDT     0.06067    45523.0     0.06066   \n",
       "4      2022-08-06 19:24:16  GALAUSDT     0.06067    35158.0     0.06066   \n",
       "...                    ...       ...         ...        ...         ...   \n",
       "794143 2022-08-15 23:59:55  GALAUSDT     0.06704    21530.0     0.06703   \n",
       "794144 2022-08-15 23:59:56  GALAUSDT     0.06704    21530.0     0.06703   \n",
       "794145 2022-08-15 23:59:57  GALAUSDT     0.06704    21530.0     0.06703   \n",
       "794146 2022-08-15 23:59:58  GALAUSDT     0.06704    21424.0     0.06703   \n",
       "794147 2022-08-15 23:59:59  GALAUSDT     0.06708     7501.0     0.06707   \n",
       "\n",
       "        bid1_size  ask2_price  ask2_size  bid2_price  bid2_size  ...   \n",
       "0         26089.0     0.06069    29007.0     0.06066    23619.0  ...  \\\n",
       "1          3350.0     0.06068    42469.0     0.06065      446.0  ...   \n",
       "2          3350.0     0.06068    40723.0     0.06065     9146.0  ...   \n",
       "3          3350.0     0.06068    44523.0     0.06065     9146.0  ...   \n",
       "4         17615.0     0.06068    51117.0     0.06065     9146.0  ...   \n",
       "...           ...         ...        ...         ...        ...  ...   \n",
       "794143    28875.0     0.06705     5965.0     0.06702   162802.0  ...   \n",
       "794144    28875.0     0.06705     5965.0     0.06702   167709.0  ...   \n",
       "794145    28875.0     0.06705     5965.0     0.06702   302709.0  ...   \n",
       "794146    33631.0     0.06705     5965.0     0.06702   174304.0  ...   \n",
       "794147    10093.0     0.06709      442.0     0.06706    16767.0  ...   \n",
       "\n",
       "        roc_60_m  beta_60_m  max_60_m  min_60_m  qtlu_60_m  qtld_60_m   \n",
       "0      -1.007562  -0.016793  1.799218 -2.159061   0.906806  -0.863625  \\\n",
       "1      -1.007562  -0.016793  1.799218 -2.159061   0.906806  -0.863625   \n",
       "2      -1.007562  -0.016793  1.799218 -2.159061   0.906806  -0.863625   \n",
       "3      -1.007562  -0.016793  1.799218 -2.159061   0.906806  -0.863625   \n",
       "4      -1.007562  -0.016793  1.799218 -2.159061   0.906806  -0.863625   \n",
       "...          ...        ...       ...       ...        ...        ...   \n",
       "794143 -0.970452  -0.016174  0.369696 -2.726508   0.009242  -2.195070   \n",
       "794144 -0.970452  -0.016174  0.369696 -2.726508   0.009242  -2.195070   \n",
       "794145 -0.970452  -0.016174  0.369696 -2.726508   0.009242  -2.195070   \n",
       "794146 -0.970452  -0.016174  0.369696 -2.726508   0.009242  -2.195070   \n",
       "794147 -0.970452  -0.016174  0.369696 -2.726508   0.009242  -2.195070   \n",
       "\n",
       "        imax_60_m  imin_60_m  imxd_60_m  imxd_60_dis_m  \n",
       "0        0.316667   0.066667   0.250000            1.0  \n",
       "1        0.316667   0.066667   0.250000            1.0  \n",
       "2        0.316667   0.066667   0.250000            1.0  \n",
       "3        0.316667   0.066667   0.250000            1.0  \n",
       "4        0.316667   0.066667   0.250000            1.0  \n",
       "...           ...        ...        ...            ...  \n",
       "794143   0.916667   0.083333   0.833333            1.0  \n",
       "794144   0.916667   0.083333   0.833333            1.0  \n",
       "794145   0.916667   0.083333   0.833333            1.0  \n",
       "794146   0.916667   0.083333   0.833333            1.0  \n",
       "794147   0.916667   0.083333   0.833333            1.0  \n",
       "\n",
       "[794148 rows x 258 columns]"
      ]
     },
     "execution_count": 5,
     "metadata": {},
     "output_type": "execute_result"
    }
   ],
   "source": [
    "df"
   ]
  },
  {
   "cell_type": "code",
   "execution_count": 6,
   "metadata": {},
   "outputs": [
    {
     "data": {
      "text/plain": [
       "array([0, 0, 0, ..., 0, 0, 0])"
      ]
     },
     "execution_count": 6,
     "metadata": {},
     "output_type": "execute_result"
    }
   ],
   "source": [
    "action"
   ]
  }
 ],
 "metadata": {
  "kernelspec": {
   "display_name": "HFT",
   "language": "python",
   "name": "python3"
  },
  "language_info": {
   "codemirror_mode": {
    "name": "ipython",
    "version": 3
   },
   "file_extension": ".py",
   "mimetype": "text/x-python",
   "name": "python",
   "nbconvert_exporter": "python",
   "pygments_lexer": "ipython3",
   "version": "3.8.16"
  },
  "orig_nbformat": 4
 },
 "nbformat": 4,
 "nbformat_minor": 2
}
